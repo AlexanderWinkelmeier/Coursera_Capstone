{
 "cells": [
  {
   "cell_type": "markdown",
   "metadata": {},
   "source": [
    "# The Battle of the Neighborhoods - Week 1"
   ]
  },
  {
   "cell_type": "markdown",
   "metadata": {},
   "source": [
    "## Introduction & Business Problem"
   ]
  },
  {
   "cell_type": "markdown",
   "metadata": {},
   "source": [
    "### Problem Background"
   ]
  },
  {
   "cell_type": "markdown",
   "metadata": {},
   "source": [
    "ABC-Gastronomy GmbH is a company that successfully operates restaurants at various locations around the world and is now aiming to make the leap to Munich. For this, however, it needs some background information about Munich."
   ]
  },
  {
   "cell_type": "markdown",
   "metadata": {},
   "source": [
    "Munich is the capital of the Free State of Bavaria. It is the most populous city in Bavaria with about 1.5 million inhabitants and (after Berlin and Hamburg) the third largest municipality in Germany in terms of population. It forms the center of the Munich Metropolitan Region (about 6 million inhabitants) and the Munich Planning Region (about 2.9 million inhabitants). "
   ]
  },
  {
   "cell_type": "markdown",
   "metadata": {},
   "source": [
    "Munich is counted among the world's cosmopolitan cities and is considered a center of culture, politics, science and media. It is home to numerous corporations, including five DAX-listed companies (Allianz, BMW, Munich Re, Siemens and MTU)."
   ]
  },
  {
   "cell_type": "markdown",
   "metadata": {},
   "source": [
    "Munich is home to numerous national and international authorities as well as important universities and colleges, major museums and theatres. With many buildings worth seeing, including protected monuments and ensembles, international sporting events, trade fairs and congresses as well as the world-famous Oktoberfest, Munich is a magnet for international tourism."
   ]
  },
  {
   "cell_type": "markdown",
   "metadata": {},
   "source": [
    "As it is a highly developed city, the cost of doing business is also one of the highest. Therefore, every new business project or expansion must be carefully analyzed. The insights gained from the analysis allow a good understanding of the business environment, which is helpful in the strategic orientation of the market. This will help to reduce risks and the return on investment will be reasonable."
   ]
  },
  {
   "cell_type": "markdown",
   "metadata": {},
   "source": [
    "### Problem Description"
   ]
  },
  {
   "cell_type": "markdown",
   "metadata": {},
   "source": [
    "A restaurant is a business that prepares and serves food and beverages for customers for money. Munich is known for its excellent cuisine. Its dining culture covers a wide range of dishes influenced by many nationalities. "
   ]
  },
  {
   "cell_type": "markdown",
   "metadata": {},
   "source": [
    "Various waves of immigration from Southern, Central and Eastern Europe have resulted in many Italian, Spanish, Greek or Turkish restaurants, but Chinese, Vietnamese and Indian restaurants can also be found in the Munich area. Bavarian cuisine is particularly widespread and popular."
   ]
  },
  {
   "cell_type": "markdown",
   "metadata": {},
   "source": [
    "In such a highly competitive gastronomy market, it is obvious that the investment \"founding a restaurant in Munich\" must be preceded by a comprehensive location analysis."
   ]
  },
  {
   "cell_type": "markdown",
   "metadata": {},
   "source": [
    "The following factors, among others, must be considered:\n",
    "-\tThe population and demography of Munich\n",
    "-\tAre there weekly markets, farms, farmer's markets etc. in the vicinity,\n",
    "where you can buy quality goods relatively cheaply?\n",
    "-\tAre there places with high population flows nearby, such as fitness centers, swimming pools, entertainment zones, in order to be able to generate a steady stream of walk-in customers?\n",
    "-\tHow many competitors are there at the location?\n",
    "-\tAre the markets saturated or can the market absorb more competitors?\n"
   ]
  },
  {
   "cell_type": "markdown",
   "metadata": {},
   "source": [
    "In order to establish a restaurant in Munich and to be able to manage it successfully in the long term, all these points must be carefully analyzed. "
   ]
  },
  {
   "cell_type": "markdown",
   "metadata": {},
   "source": [
    "### Target audience"
   ]
  },
  {
   "cell_type": "markdown",
   "metadata": {},
   "source": [
    "In order to find and evaluate the right location, ABC-Gastronomy GmbH commissioned me as a data scientist. The aim is to recommend to the management which neighborhood of Munich is best suited to open a restaurant. Another aim is to explain the reasons for a certain recommendation to the management in a comprehensible way."
   ]
  },
  {
   "cell_type": "markdown",
   "metadata": {},
   "source": [
    "### Success Criteria"
   ]
  },
  {
   "cell_type": "markdown",
   "metadata": {},
   "source": [
    "The success criterion of the project will be a good recommendation for the choice of the neighborhood to ABC-Gastronomy GmbH, based on a lack of such restaurants at this location."
   ]
  }
 ],
 "metadata": {
  "kernelspec": {
   "display_name": "Python 3",
   "language": "python",
   "name": "python3"
  },
  "language_info": {
   "codemirror_mode": {
    "name": "ipython",
    "version": 3
   },
   "file_extension": ".py",
   "mimetype": "text/x-python",
   "name": "python",
   "nbconvert_exporter": "python",
   "pygments_lexer": "ipython3",
   "version": "3.7.4"
  }
 },
 "nbformat": 4,
 "nbformat_minor": 2
}
