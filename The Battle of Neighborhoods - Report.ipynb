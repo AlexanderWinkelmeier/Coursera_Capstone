{
 "cells": [
  {
   "cell_type": "markdown",
   "metadata": {},
   "source": [
    "# The Battle of the Neighborhoods - Report"
   ]
  },
  {
   "cell_type": "markdown",
   "metadata": {},
   "source": [
    "### Table of Content:\n",
    "1. Introduction & Business Problem\n",
    "2. Data\n",
    "3. Methodology\n",
    "4. Results\n",
    "5. Disussion\n",
    "6. Conclusion"
   ]
  },
  {
   "cell_type": "markdown",
   "metadata": {},
   "source": [
    "## 1. Introduction & Business Problem"
   ]
  },
  {
   "cell_type": "markdown",
   "metadata": {},
   "source": [
    "### 1.1 Problem Background"
   ]
  },
  {
   "cell_type": "markdown",
   "metadata": {},
   "source": [
    "ABC-Gastronomy GmbH is a company that successfully operates restaurants at various locations around the world and is now aiming to make the leap to Munich. For this, however, it needs some background information about Munich."
   ]
  },
  {
   "cell_type": "markdown",
   "metadata": {},
   "source": [
    "Munich is the capital of the Free State of Bavaria. It is the most populous city in Bavaria with about 1.5 million inhabitants and (after Berlin and Hamburg) the third largest municipality in Germany in terms of population. It forms the center of the Munich Metropolitan Region (about 6 million inhabitants) and the Munich Planning Region (about 2.9 million inhabitants). "
   ]
  },
  {
   "cell_type": "markdown",
   "metadata": {},
   "source": [
    "Munich is counted among the world's cosmopolitan cities and is considered a center of culture, politics, science and media. It is home to numerous corporations, including five DAX-listed companies (Allianz, BMW, Munich Re, Siemens and MTU)."
   ]
  },
  {
   "cell_type": "markdown",
   "metadata": {},
   "source": [
    "Munich is home to numerous national and international authorities as well as important universities and colleges, major museums and theatres. With many buildings worth seeing, including protected monuments and ensembles, international sporting events, trade fairs and congresses as well as the world-famous Oktoberfest, Munich is a magnet for international tourism."
   ]
  },
  {
   "cell_type": "markdown",
   "metadata": {},
   "source": [
    "As it is a highly developed city, the cost of doing business is also one of the highest. Therefore, every new business project or expansion must be carefully analyzed. The insights gained from the analysis allow a good understanding of the business environment, which is helpful in the strategic orientation of the market. This will help to reduce risks and the return on investment will be reasonable."
   ]
  },
  {
   "cell_type": "markdown",
   "metadata": {},
   "source": [
    "### 1.2 Problem Description"
   ]
  },
  {
   "cell_type": "markdown",
   "metadata": {},
   "source": [
    "A restaurant is a business that prepares and serves food and beverages for customers for money. Munich is known for its excellent cuisine. Its dining culture covers a wide range of dishes influenced by many nationalities. "
   ]
  },
  {
   "cell_type": "markdown",
   "metadata": {},
   "source": [
    "Various waves of immigration from Southern, Central and Eastern Europe have resulted in many Italian, Spanish, Greek or Turkish restaurants, but Chinese, Vietnamese and Indian restaurants can also be found in the Munich area. Bavarian cuisine is particularly widespread and popular."
   ]
  },
  {
   "cell_type": "markdown",
   "metadata": {},
   "source": [
    "In such a highly competitive gastronomy market, it is obvious that the investment \"founding a restaurant in Munich\" must be preceded by a comprehensive location analysis."
   ]
  },
  {
   "cell_type": "markdown",
   "metadata": {},
   "source": [
    "The following factors, among others, must be considered:\n",
    "-\tThe population and demography of Munich\n",
    "-\tAre there weekly markets, farms, farmer's markets etc. in the vicinity,\n",
    "where you can buy quality goods relatively cheaply?\n",
    "-\tAre there places with high population flows nearby, such as fitness centers, swimming pools, entertainment zones, in order to be able to generate a steady stream of walk-in customers?\n",
    "-\tHow many competitors are there at the location?\n",
    "-\tAre the markets saturated or can the market absorb more competitors?"
   ]
  },
  {
   "cell_type": "markdown",
   "metadata": {},
   "source": [
    "In order to establish a restaurant in Munich and to be able to manage it successfully in the long term, all these points must be carefully analyzed. "
   ]
  },
  {
   "cell_type": "markdown",
   "metadata": {},
   "source": [
    "### 1.3 Target audience"
   ]
  },
  {
   "cell_type": "markdown",
   "metadata": {},
   "source": [
    "In order to find and evaluate the right location, ABC-Gastronomy GmbH commissioned me as a data scientist. The aim is to recommend to the management which neighborhood of Munich is best suited to open a restaurant. Another aim is to explain the reasons for a certain recommendation to the management in a comprehensible way."
   ]
  },
  {
   "cell_type": "markdown",
   "metadata": {},
   "source": [
    "### 1.4 Success Criteria"
   ]
  },
  {
   "cell_type": "markdown",
   "metadata": {},
   "source": [
    "The success criterion of the project will be a good recommendation for the choice of the neighborhood to ABC-Gastronomy GmbH, based on a lack of such restaurants at this location."
   ]
  },
  {
   "cell_type": "markdown",
   "metadata": {},
   "source": [
    "## 2. Data"
   ]
  },
  {
   "cell_type": "markdown",
   "metadata": {},
   "source": [
    "Object of this project is the city of Munich and the analysis of its boroughs and neighborhoods.\n",
    "The following data sets are required for this analysis:"
   ]
  },
  {
   "cell_type": "markdown",
   "metadata": {},
   "source": [
    "### 2.1 Data on the neighborhoods of Munich"
   ]
  },
  {
   "cell_type": "markdown",
   "metadata": {},
   "source": [
    "Munich consists of 25 boroughs and a total of 107 neighborhoods. In order to segment the boroughs and analyze them more precisely, we essentially need a data set containing the 25 boroughs and the neighborhoods existing in each borough as well as the latitude and longitude of each neighborhood."
   ]
  },
  {
   "cell_type": "markdown",
   "metadata": {},
   "source": [
    "The information concerning the boroughs and neighborhoods has been taken from the following publicly accessible websites:"
   ]
  },
  {
   "cell_type": "markdown",
   "metadata": {},
   "source": [
    "* https://en.munich.foravisit.com/munich-city/boroughs-neighborhoods/city-centre-old-town/\n",
    "* http://www.total-munich.com/20160623888/blog/moving-to-munich/moving-to-munich-introduction-to-munich-s-boroughs.html\n",
    "* https://de.wikipedia.org/wiki/Stadtbezirke_M%C3%BCnchens"
   ]
  },
  {
   "cell_type": "markdown",
   "metadata": {},
   "source": [
    "Since no source could be found for the latitudes and longitudes to the boroughs and neighborhoods which contains these data in summary form, I prepared them manually by using the following website to determine the latitudes and longitudes of certain places:"
   ]
  },
  {
   "cell_type": "markdown",
   "metadata": {},
   "source": [
    "* https://www.koordinaten-umrechner.de/decimal/51.000000,10.000000?karte=OpenStreetMap&zoom=8"
   ]
  },
  {
   "cell_type": "markdown",
   "metadata": {},
   "source": [
    "### 2.2 Data on farmer's and weekly markets in Munich"
   ]
  },
  {
   "cell_type": "markdown",
   "metadata": {},
   "source": [
    "A weekly market is a weekly regular market event where mainly fresh food such as fruit, vegetables, herbs, dairy products, fish, meat and eggs are offered. Farmers' markets are, in contrast to weekly markets, traditional markets where farmers used to do their business and stock up on products for the following year. At farmers' markets, stalls offer food produced by farmers themselves. In contrast to weekly markets, they are basically supplied by producers."
   ]
  },
  {
   "cell_type": "markdown",
   "metadata": {},
   "source": [
    "The data sources for the weekly and farmers' markets are:"
   ]
  },
  {
   "cell_type": "markdown",
   "metadata": {},
   "source": [
    "* https://www.muenchnerwochenmaerkte.de/maerkte/\n",
    "* https://www.wochenmarkt-deutschland.de/maerkte/bayern/wochenmaerkte-in-muenchen/\n",
    "* https://www.muenchner-bauernmaerkte.de/standorte-zeiten.html\n",
    "* https://www.muenchen.de/rathaus/Stadtverwaltung/Kommunalreferat/markthallen/wochenmaerkte.html"
   ]
  },
  {
   "cell_type": "markdown",
   "metadata": {},
   "source": [
    "### 2.3 Data on the population and demography of Munich"
   ]
  },
  {
   "cell_type": "markdown",
   "metadata": {},
   "source": [
    "* https://de.wikipedia.org/wiki/Einwohnerentwicklung_von_M%C3%BCnchen\n",
    "* https://www.muenchen.de/"
   ]
  },
  {
   "cell_type": "markdown",
   "metadata": {},
   "source": [
    "### 2.4 Data on venues in the neighborhoods of Munich"
   ]
  },
  {
   "cell_type": "markdown",
   "metadata": {},
   "source": [
    "The coordinates of the districts of Munich are used as input for the Foursquare API.\n",
    "We use this API to obtain and explore information about venues within a certain radius around the coordinates based on longitude and latitude. The image below is from the Foursquare API data."
   ]
  },
  {
   "cell_type": "markdown",
   "metadata": {},
   "source": [
    "![](Foursquare.png)"
   ]
  },
  {
   "cell_type": "markdown",
   "metadata": {},
   "source": [
    "## 3. Methodology"
   ]
  },
  {
   "cell_type": "markdown",
   "metadata": {},
   "source": [
    "The main goal of this project is to find the best neighborhood for founding a restaurant in Munich."
   ]
  },
  {
   "cell_type": "markdown",
   "metadata": {},
   "source": [
    "### 3.1 Analytical Approach"
   ]
  },
  {
   "cell_type": "markdown",
   "metadata": {},
   "source": [
    "Munich has 25 boroughs and 107 neighborhoods. The purpose of this analysis is to cluster this boroughs and neighborhoods in order to obtain more information regarding the objective of \"finding the best neighbourhood to start a restaurant\"."
   ]
  },
  {
   "cell_type": "markdown",
   "metadata": {},
   "source": [
    "### 3.2 Exploratory Data Analysis"
   ]
  },
  {
   "cell_type": "markdown",
   "metadata": {},
   "source": [
    "### 3.2.1 Data on the neighborhoods of Munich"
   ]
  },
  {
   "cell_type": "markdown",
   "metadata": {},
   "source": [
    "* Web scraping of boroughs and neighborhood data from wikipedia using Pandas\n",
    "* Load and explore the data\n",
    "* Preparation of the data and transform it to a pandas dataframe\n",
    "* The dataframe contains the coordinates of the neighborhoods of Munich\n",
    "* This data will be used to get Venues from the Foursquare API\n",
    "* Geoencoder and Folium are used to create a map of Munich with its neighborhoods superimposed on top"
   ]
  },
  {
   "cell_type": "markdown",
   "metadata": {},
   "source": [
    "#### The map shows the neighborhoods of munich"
   ]
  },
  {
   "cell_type": "markdown",
   "metadata": {},
   "source": [
    "![](Munich_neighborhoods.png)"
   ]
  },
  {
   "cell_type": "markdown",
   "metadata": {},
   "source": [
    "### 3.2.2 Data on farmer's and weekly markets in Munich"
   ]
  },
  {
   "cell_type": "markdown",
   "metadata": {},
   "source": [
    "* Web scraping farmer's markets and weekly markets data using beautifulsoup.\n",
    "* Preparation of the data and transform it to a pandas dataframe.\n",
    "* Insert the latitude and longitude for the respective neighborhoods into the dateframe.\n",
    "* The dataframe contains the name of the market, the borough and its latitude and longitude"
   ]
  },
  {
   "cell_type": "markdown",
   "metadata": {},
   "source": [
    "#### Munich has 42 farmer's respectively weekly markets. Below there are 21 of them."
   ]
  },
  {
   "cell_type": "markdown",
   "metadata": {},
   "source": [
    "![](Munich_markets.png)"
   ]
  },
  {
   "cell_type": "markdown",
   "metadata": {},
   "source": [
    "#### The following chart shows the distribution of the individual markets across the individual boroughs"
   ]
  },
  {
   "cell_type": "markdown",
   "metadata": {},
   "source": [
    "![](Munich_markets_plot.png)"
   ]
  },
  {
   "cell_type": "markdown",
   "metadata": {},
   "source": [
    "#### Findings from the data:\n",
    "* Thalkirchen Obersendling Forstenried Fürstenried Soll is the only borough that has four markets.\n",
    "* There are five boroughs that have three markets.\n",
    "* There are eight boroughs that have two markets.\n",
    "* There are also eight boroughs that have only one market."
   ]
  },
  {
   "cell_type": "markdown",
   "metadata": {},
   "source": [
    "#### Map of Munich with weekly markets and farmer's markets superimposed on top using Geoencoder and Golium."
   ]
  },
  {
   "cell_type": "markdown",
   "metadata": {},
   "source": [
    "![](Munich_markets_map.png)"
   ]
  },
  {
   "cell_type": "markdown",
   "metadata": {},
   "source": [
    "### 3.2.3 Data on the population and demography of Munich"
   ]
  },
  {
   "cell_type": "markdown",
   "metadata": {},
   "source": [
    "Scraping population and demographic data from Wikipedia using Pandas"
   ]
  },
  {
   "cell_type": "markdown",
   "metadata": {},
   "source": [
    "#### 3.2.3.1 Population data"
   ]
  },
  {
   "cell_type": "markdown",
   "metadata": {},
   "source": [
    "* Load and explore the data\n",
    "* Preparation of the data and transform it to a pandas dataframe\n",
    "* The dataframe contains the borough, the size of the borough, its population and population density"
   ]
  },
  {
   "cell_type": "markdown",
   "metadata": {},
   "source": [
    "![](Munich_boroughs.png)"
   ]
  },
  {
   "cell_type": "markdown",
   "metadata": {},
   "source": [
    "#### Findings from the data:\n",
    "* Schwabing-West, in the centre of Munich, is the most highly populated borough in Munich and Germany with 15,706 people per square kilometre. Even Berlin Kreuzberg is not so densely populated.\n",
    "* The most populous borough is Ramersdorf-Perlach in the southwest of Munich with about 112,000 inhabitants.\n",
    "* Aubing-Lochhausen-Langwied, in the west of Munich, is geographically the largest borough with about 3406 square kilometres."
   ]
  },
  {
   "cell_type": "markdown",
   "metadata": {},
   "source": [
    "#### Below, there is an overview of all the boroughs (=Stadtbezirke) Of Munich"
   ]
  },
  {
   "cell_type": "markdown",
   "metadata": {},
   "source": [
    "![](Munich_boroughs.jpg)"
   ]
  },
  {
   "cell_type": "markdown",
   "metadata": {},
   "source": [
    "#### 3.2.3.2 Demographics data"
   ]
  },
  {
   "cell_type": "markdown",
   "metadata": {},
   "source": [
    "* Load and explore the data\n",
    "* Preparation of the data and transform it to a pandas dataframe\n",
    "* The dataframe contains residents with foreign citizenship by country of origin over 5,000 at the end of the year."
   ]
  },
  {
   "cell_type": "markdown",
   "metadata": {},
   "source": [
    "![](Munich_demographics.png)"
   ]
  },
  {
   "cell_type": "markdown",
   "metadata": {},
   "source": [
    "Munich is the third largest city in Germany with 1,471,508 inhabitants (as of 31 December 2018) behind Berlin and Hamburg . "
   ]
  },
  {
   "cell_type": "markdown",
   "metadata": {},
   "source": [
    "#### Findings from the data:\n",
    "* Munich has a large number of inhabitants with foreign citizenship (about 20 percent).\n",
    "* This is one reason why Munich has such a wide range of international restaurants.\n",
    "* This also increases the scope for operating a restaurant in Munich."
   ]
  },
  {
   "cell_type": "markdown",
   "metadata": {},
   "source": [
    "### 3.2.4 Data on venues in the neighborhoods of Munich"
   ]
  },
  {
   "cell_type": "markdown",
   "metadata": {},
   "source": [
    "In this part, the Foursquare API is used to explore neighborhoods in Munich. The results are venues which are visualized with Folium."
   ]
  },
  {
   "cell_type": "markdown",
   "metadata": {},
   "source": [
    "#### Explore Neighborhoods in Munich with Foursquare and Folium"
   ]
  },
  {
   "cell_type": "markdown",
   "metadata": {},
   "source": [
    "##### Munich Venues found by Foursquare (the first five entries)"
   ]
  },
  {
   "cell_type": "markdown",
   "metadata": {},
   "source": [
    "![](Foursquare.png)"
   ]
  },
  {
   "cell_type": "markdown",
   "metadata": {},
   "source": [
    "         The \"Munich_venues\" dataframe has 5923 venues and 296 unique venue types."
   ]
  },
  {
   "cell_type": "markdown",
   "metadata": {},
   "source": [
    "##### Visualize Venues in Munich with Folium"
   ]
  },
  {
   "cell_type": "markdown",
   "metadata": {},
   "source": [
    "![](Munich_venues_map.png)"
   ]
  },
  {
   "cell_type": "markdown",
   "metadata": {},
   "source": [
    "             This map shows the top 200 venues in a radius of 1,000 metres."
   ]
  },
  {
   "cell_type": "markdown",
   "metadata": {},
   "source": [
    "## 4. Results"
   ]
  },
  {
   "cell_type": "markdown",
   "metadata": {},
   "source": [
    "Foursquare has returned data for all venue categories. Since we are only interested in the restaurant business, we filtered the data."
   ]
  },
  {
   "cell_type": "markdown",
   "metadata": {},
   "source": [
    "Then we clustered all neighborhoods of Munich using the k-means algorithm.K-means clustering aims to partition n observations (here: neighborhoods) into k clusters in which each observation belongs to the cluster with the closest mean. To find the best k, the silhouette method was used. This resulted in k = 2, i.e. all neighborhoods of Munich were divided into two clusters."
   ]
  },
  {
   "cell_type": "markdown",
   "metadata": {},
   "source": [
    "![](Munich_clusters.png)"
   ]
  },
  {
   "cell_type": "markdown",
   "metadata": {},
   "source": [
    "This map shows the two differnt clusters created by using k-means.The red circles belong to cluster1 nd the blue  ones to cluster0"
   ]
  },
  {
   "cell_type": "markdown",
   "metadata": {},
   "source": [
    "### Cluster0: "
   ]
  },
  {
   "cell_type": "markdown",
   "metadata": {},
   "source": [
    "#### In this cluster the number of restaurants is very high. It shows that the market is saturated."
   ]
  },
  {
   "cell_type": "markdown",
   "metadata": {},
   "source": [
    "### Cluster1: "
   ]
  },
  {
   "cell_type": "markdown",
   "metadata": {},
   "source": [
    "#### In this cluster the number of restaurants is relatively low. It shows that the market is not saturated.There are untapped neighborhoods. A list of them is below:"
   ]
  },
  {
   "cell_type": "markdown",
   "metadata": {},
   "source": [
    "![](Untapped_neighborhoods.png)"
   ]
  },
  {
   "cell_type": "markdown",
   "metadata": {},
   "source": [
    "## 5. Discussion\n",
    "\n",
    "* There is scope for exploring farmers' markets and weekly markets in the neighborhoods.\n",
    "* There is scope for exploring various cuisines in the neighborhoods and boroughs."
   ]
  },
  {
   "cell_type": "markdown",
   "metadata": {},
   "source": [
    "## 6. Conclusion"
   ]
  },
  {
   "cell_type": "markdown",
   "metadata": {},
   "source": [
    "This analysis is based on the available data. It is unlikely to be complete. A better result would probably be possible with more available data."
   ]
  },
  {
   "cell_type": "markdown",
   "metadata": {},
   "source": [
    "The city centre of Munich has a high density of various restaurants. The competition there is therefore very high. But the high density also shows that there is a very high demand. "
   ]
  },
  {
   "cell_type": "markdown",
   "metadata": {},
   "source": [
    "If the ABC-Gastronomy-GmbH does not want to face this high competition, which also holds great opportunities, it is advisable to concentrate on the regions more outside of Munich in order to open a restaurant. These are mainly Altaubing, Lochhausen, St. Ulrich, Alte Heide Hirschau and Obersendling. Among these, Obersendling is particularly interesting as it is the most central and has the highest population density among the non-saturated neighborhoods.  However, this requires further analysis."
   ]
  }
 ],
 "metadata": {
  "kernelspec": {
   "display_name": "Python 3",
   "language": "python",
   "name": "python3"
  },
  "language_info": {
   "codemirror_mode": {
    "name": "ipython",
    "version": 3
   },
   "file_extension": ".py",
   "mimetype": "text/x-python",
   "name": "python",
   "nbconvert_exporter": "python",
   "pygments_lexer": "ipython3",
   "version": "3.7.4"
  }
 },
 "nbformat": 4,
 "nbformat_minor": 2
}
