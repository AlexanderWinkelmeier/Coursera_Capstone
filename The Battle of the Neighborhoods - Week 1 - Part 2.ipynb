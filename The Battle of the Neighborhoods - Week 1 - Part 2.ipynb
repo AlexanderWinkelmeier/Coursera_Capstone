{
 "cells": [
  {
   "cell_type": "markdown",
   "metadata": {},
   "source": [
    "# The Battle of the Neighborhoods - Week 1"
   ]
  },
  {
   "cell_type": "markdown",
   "metadata": {},
   "source": [
    "## Data:"
   ]
  },
  {
   "cell_type": "markdown",
   "metadata": {},
   "source": [
    "Object of this project is the city of Munich and the analysis of its boroughs and neighborhoods.\n",
    "The following data sets are required for this analysis:"
   ]
  },
  {
   "cell_type": "markdown",
   "metadata": {},
   "source": [
    "### 1. Data on the neighborhoods of Munich"
   ]
  },
  {
   "cell_type": "markdown",
   "metadata": {},
   "source": [
    "Munich consists of 25 boroughs and a total of 107 neighborhoods. In order to segment the boroughs and analyze them more precisely, we essentially need a data set containing the 25 boroughs and the neighborhoods existing in each borough as well as the latitude and longitude of each neighborhood."
   ]
  },
  {
   "cell_type": "markdown",
   "metadata": {},
   "source": [
    "The information concerning the boroughs and neighborhoods has been taken from the following publicly accessible websites:"
   ]
  },
  {
   "cell_type": "markdown",
   "metadata": {},
   "source": [
    "* https://en.munich.foravisit.com/munich-city/boroughs-neighborhoods/city-centre-old-town/\n",
    "* http://www.total-munich.com/20160623888/blog/moving-to-munich/moving-to-munich-introduction-to-munich-s-boroughs.html\n",
    "* https://de.wikipedia.org/wiki/Stadtbezirke_M%C3%BCnchens"
   ]
  },
  {
   "cell_type": "markdown",
   "metadata": {},
   "source": [
    "Since no source could be found for the latitudes and longitudes to the boroughs and neighborhoods which contains these data in summary form, I prepared them manually by using the following website to determine the latitudes and longitudes of certain places:"
   ]
  },
  {
   "cell_type": "markdown",
   "metadata": {},
   "source": [
    "* https://www.koordinaten-umrechner.de/decimal/51.000000,10.000000?karte=OpenStreetMap&zoom=8"
   ]
  },
  {
   "cell_type": "markdown",
   "metadata": {},
   "source": [
    "### 2. Data on farmer's and weekly markets in Munich"
   ]
  },
  {
   "cell_type": "markdown",
   "metadata": {},
   "source": [
    "A weekly market is a weekly regular market event where mainly fresh food such as fruit, vegetables, herbs, dairy products, fish, meat and eggs are offered. Farmers' markets are, in contrast to weekly markets, traditional markets where farmers used to do their business and stock up on products for the following year. At farmers' markets, stalls offer food produced by farmers themselves. In contrast to weekly markets, they are basically supplied by producers."
   ]
  },
  {
   "cell_type": "markdown",
   "metadata": {},
   "source": [
    "The data sources for the weekly and farmers' markets are:"
   ]
  },
  {
   "cell_type": "markdown",
   "metadata": {},
   "source": [
    "* https://www.muenchnerwochenmaerkte.de/maerkte/\n",
    "* https://www.wochenmarkt-deutschland.de/maerkte/bayern/wochenmaerkte-in-muenchen/\n",
    "* https://www.muenchner-bauernmaerkte.de/standorte-zeiten.html\n",
    "* https://www.muenchen.de/rathaus/Stadtverwaltung/Kommunalreferat/markthallen/wochenmaerkte.html"
   ]
  },
  {
   "cell_type": "markdown",
   "metadata": {},
   "source": [
    "### 3. Data on the population, economy and demography of Munich"
   ]
  },
  {
   "cell_type": "markdown",
   "metadata": {},
   "source": [
    "* https://de.wikipedia.org/wiki/Einwohnerentwicklung_von_M%C3%BCnchen\n",
    "* https://www.muenchen.de/"
   ]
  },
  {
   "cell_type": "markdown",
   "metadata": {},
   "source": [
    "### 4. Data on venues in the neighborhoods of Munich"
   ]
  },
  {
   "cell_type": "markdown",
   "metadata": {},
   "source": [
    "The coordinates of the districts of Munich are used as input for the Foursquare API.\n",
    "We use this API to obtain and explore information about venues within a certain radius around the coordinates based on longitude and latitude. Below there is a image of the Foursquare API data."
   ]
  },
  {
   "cell_type": "markdown",
   "metadata": {},
   "source": [
    "![](Foursquare.jpg)"
   ]
  }
 ],
 "metadata": {
  "kernelspec": {
   "display_name": "Python 3",
   "language": "python",
   "name": "python3"
  },
  "language_info": {
   "codemirror_mode": {
    "name": "ipython",
    "version": 3
   },
   "file_extension": ".py",
   "mimetype": "text/x-python",
   "name": "python",
   "nbconvert_exporter": "python",
   "pygments_lexer": "ipython3",
   "version": "3.7.4"
  }
 },
 "nbformat": 4,
 "nbformat_minor": 2
}
![Foursquare](https://user-images.githubusercontent.com/41574342/76616025-6e7a7000-6523-11ea-8065-2de10279581b.png)
