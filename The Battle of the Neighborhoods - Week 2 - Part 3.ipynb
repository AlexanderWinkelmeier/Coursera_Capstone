{
 "cells": [
  {
   "cell_type": "markdown",
   "metadata": {},
   "source": [
    "# The Battle of the Neighborhoods - Week 2"
   ]
  },
  {
   "cell_type": "markdown",
   "metadata": {},
   "source": [
    "## Part 3: Scraping population and demographic data from Wikipedia"
   ]
  },
  {
   "cell_type": "markdown",
   "metadata": {},
   "source": [
    "#### Install and download libraries"
   ]
  },
  {
   "cell_type": "code",
   "execution_count": 20,
   "metadata": {},
   "outputs": [],
   "source": [
    "import pandas as pd"
   ]
  },
  {
   "cell_type": "markdown",
   "metadata": {},
   "source": [
    "### A: Population data"
   ]
  },
  {
   "cell_type": "markdown",
   "metadata": {},
   "source": [
    "#### Source of population data: https://de.wikipedia.org/wiki/Einwohnerentwicklung_von_M%C3%BCnchen"
   ]
  },
  {
   "cell_type": "markdown",
   "metadata": {},
   "source": [
    "### Population"
   ]
  },
  {
   "cell_type": "markdown",
   "metadata": {},
   "source": [
    "### Web scrapping of Population data from wikipedia page using Pandas"
   ]
  },
  {
   "cell_type": "markdown",
   "metadata": {},
   "source": [
    "Pandas offers with the method read_html() a very fast way to extract tables from web pages."
   ]
  },
  {
   "cell_type": "code",
   "execution_count": 21,
   "metadata": {},
   "outputs": [],
   "source": [
    "pop= pd.read_html('https://de.wikipedia.org/wiki/Einwohnerentwicklung_von_M%C3%BCnchen')"
   ]
  },
  {
   "cell_type": "code",
   "execution_count": 22,
   "metadata": {},
   "outputs": [
    {
     "data": {
      "text/plain": [
       "list"
      ]
     },
     "execution_count": 22,
     "metadata": {},
     "output_type": "execute_result"
    }
   ],
   "source": [
    "type(pop) "
   ]
  },
  {
   "cell_type": "markdown",
   "metadata": {},
   "source": [
    "Pandas returns a list containing all tables of the respective website."
   ]
  },
  {
   "cell_type": "code",
   "execution_count": 23,
   "metadata": {},
   "outputs": [
    {
     "data": {
      "text/plain": [
       "22"
      ]
     },
     "execution_count": 23,
     "metadata": {},
     "output_type": "execute_result"
    }
   ],
   "source": [
    "len(pop)"
   ]
  },
  {
   "cell_type": "markdown",
   "metadata": {},
   "source": [
    "The requested website contains 22 tables. The 21st table is the one we are looking for."
   ]
  },
  {
   "cell_type": "code",
   "execution_count": 24,
   "metadata": {},
   "outputs": [
    {
     "name": "stdout",
     "output_type": "stream",
     "text": [
      "<class 'pandas.core.frame.DataFrame'>\n"
     ]
    },
    {
     "data": {
      "text/html": [
       "<div>\n",
       "<style scoped>\n",
       "    .dataframe tbody tr th:only-of-type {\n",
       "        vertical-align: middle;\n",
       "    }\n",
       "\n",
       "    .dataframe tbody tr th {\n",
       "        vertical-align: top;\n",
       "    }\n",
       "\n",
       "    .dataframe thead th {\n",
       "        text-align: right;\n",
       "    }\n",
       "</style>\n",
       "<table border=\"1\" class=\"dataframe\">\n",
       "  <thead>\n",
       "    <tr style=\"text-align: right;\">\n",
       "      <th></th>\n",
       "      <th>Borough</th>\n",
       "      <th>Square-km</th>\n",
       "      <th>Population</th>\n",
       "      <th>Persons_per_square_km</th>\n",
       "    </tr>\n",
       "  </thead>\n",
       "  <tbody>\n",
       "    <tr>\n",
       "      <td>0</td>\n",
       "      <td>Allach-Untermenzing</td>\n",
       "      <td>1545</td>\n",
       "      <td>31.882</td>\n",
       "      <td>2.063</td>\n",
       "    </tr>\n",
       "    <tr>\n",
       "      <td>1</td>\n",
       "      <td>Altstadt-Lehel</td>\n",
       "      <td>315</td>\n",
       "      <td>21.122</td>\n",
       "      <td>6.715</td>\n",
       "    </tr>\n",
       "    <tr>\n",
       "      <td>2</td>\n",
       "      <td>Aubing-Lochhausen-Langwied</td>\n",
       "      <td>3406</td>\n",
       "      <td>43.682</td>\n",
       "      <td>1.282</td>\n",
       "    </tr>\n",
       "    <tr>\n",
       "      <td>3</td>\n",
       "      <td>Au-Haidhausen</td>\n",
       "      <td>422</td>\n",
       "      <td>61.495</td>\n",
       "      <td>14.574</td>\n",
       "    </tr>\n",
       "    <tr>\n",
       "      <td>4</td>\n",
       "      <td>Berg am Laim</td>\n",
       "      <td>631</td>\n",
       "      <td>45.035</td>\n",
       "      <td>7.132</td>\n",
       "    </tr>\n",
       "    <tr>\n",
       "      <td>5</td>\n",
       "      <td>Bogenhausen</td>\n",
       "      <td>2371</td>\n",
       "      <td>85.947</td>\n",
       "      <td>3.625</td>\n",
       "    </tr>\n",
       "    <tr>\n",
       "      <td>6</td>\n",
       "      <td>Feldmoching-Hasenbergl</td>\n",
       "      <td>2894</td>\n",
       "      <td>61.534</td>\n",
       "      <td>2.126</td>\n",
       "    </tr>\n",
       "    <tr>\n",
       "      <td>7</td>\n",
       "      <td>Hadern</td>\n",
       "      <td>922</td>\n",
       "      <td>50.257</td>\n",
       "      <td>5.449</td>\n",
       "    </tr>\n",
       "    <tr>\n",
       "      <td>8</td>\n",
       "      <td>Laim</td>\n",
       "      <td>529</td>\n",
       "      <td>55.374</td>\n",
       "      <td>10.476</td>\n",
       "    </tr>\n",
       "    <tr>\n",
       "      <td>9</td>\n",
       "      <td>Ludwigsvorstadt-Isarvorstadt</td>\n",
       "      <td>440</td>\n",
       "      <td>54.049</td>\n",
       "      <td>12.280</td>\n",
       "    </tr>\n",
       "    <tr>\n",
       "      <td>10</td>\n",
       "      <td>Maxvorstadt</td>\n",
       "      <td>430</td>\n",
       "      <td>53.743</td>\n",
       "      <td>12.540</td>\n",
       "    </tr>\n",
       "    <tr>\n",
       "      <td>11</td>\n",
       "      <td>Milbertshofen-Am Hart</td>\n",
       "      <td>1342</td>\n",
       "      <td>75.488</td>\n",
       "      <td>5.627</td>\n",
       "    </tr>\n",
       "    <tr>\n",
       "      <td>12</td>\n",
       "      <td>Moosach</td>\n",
       "      <td>1109</td>\n",
       "      <td>53.261</td>\n",
       "      <td>4.801</td>\n",
       "    </tr>\n",
       "    <tr>\n",
       "      <td>13</td>\n",
       "      <td>Neuhausen-Nymphenburg</td>\n",
       "      <td>1292</td>\n",
       "      <td>98.702</td>\n",
       "      <td>7.643</td>\n",
       "    </tr>\n",
       "    <tr>\n",
       "      <td>14</td>\n",
       "      <td>Obergiesing</td>\n",
       "      <td>572</td>\n",
       "      <td>54.402</td>\n",
       "      <td>9.510</td>\n",
       "    </tr>\n",
       "    <tr>\n",
       "      <td>15</td>\n",
       "      <td>Pasing-Obermenzing</td>\n",
       "      <td>1650</td>\n",
       "      <td>73.320</td>\n",
       "      <td>4.444</td>\n",
       "    </tr>\n",
       "    <tr>\n",
       "      <td>16</td>\n",
       "      <td>Ramersdorf-Perlach</td>\n",
       "      <td>1990</td>\n",
       "      <td>112.371</td>\n",
       "      <td>5.648</td>\n",
       "    </tr>\n",
       "    <tr>\n",
       "      <td>17</td>\n",
       "      <td>Schwabing-Freimann</td>\n",
       "      <td>2567</td>\n",
       "      <td>75.020</td>\n",
       "      <td>2.922</td>\n",
       "    </tr>\n",
       "    <tr>\n",
       "      <td>18</td>\n",
       "      <td>Schwabing-West</td>\n",
       "      <td>436</td>\n",
       "      <td>68.527</td>\n",
       "      <td>15.706</td>\n",
       "    </tr>\n",
       "    <tr>\n",
       "      <td>19</td>\n",
       "      <td>Schwanthalerhöhe</td>\n",
       "      <td>207</td>\n",
       "      <td>30.381</td>\n",
       "      <td>14.675</td>\n",
       "    </tr>\n",
       "    <tr>\n",
       "      <td>20</td>\n",
       "      <td>Sendling</td>\n",
       "      <td>394</td>\n",
       "      <td>40.879</td>\n",
       "      <td>10.379</td>\n",
       "    </tr>\n",
       "    <tr>\n",
       "      <td>21</td>\n",
       "      <td>Sendling-Westpark</td>\n",
       "      <td>781</td>\n",
       "      <td>58.398</td>\n",
       "      <td>7.473</td>\n",
       "    </tr>\n",
       "    <tr>\n",
       "      <td>22</td>\n",
       "      <td>Thalkirchen-Obersendling-Forstenried-Fürstenri...</td>\n",
       "      <td>1776</td>\n",
       "      <td>93.602</td>\n",
       "      <td>5.269</td>\n",
       "    </tr>\n",
       "    <tr>\n",
       "      <td>23</td>\n",
       "      <td>Trudering-Riem</td>\n",
       "      <td>2245</td>\n",
       "      <td>69.830</td>\n",
       "      <td>3.110</td>\n",
       "    </tr>\n",
       "  </tbody>\n",
       "</table>\n",
       "</div>"
      ],
      "text/plain": [
       "                                              Borough  Square-km Population  \\\n",
       "0                                 Allach-Untermenzing       1545     31.882   \n",
       "1                                      Altstadt-Lehel        315     21.122   \n",
       "2                          Aubing-Lochhausen-Langwied       3406     43.682   \n",
       "3                                       Au-Haidhausen        422     61.495   \n",
       "4                                        Berg am Laim        631     45.035   \n",
       "5                                         Bogenhausen       2371     85.947   \n",
       "6                              Feldmoching-Hasenbergl       2894     61.534   \n",
       "7                                              Hadern        922     50.257   \n",
       "8                                                Laim        529     55.374   \n",
       "9                        Ludwigsvorstadt-Isarvorstadt        440     54.049   \n",
       "10                                        Maxvorstadt        430     53.743   \n",
       "11                              Milbertshofen-Am Hart       1342     75.488   \n",
       "12                                            Moosach       1109     53.261   \n",
       "13                              Neuhausen-Nymphenburg       1292     98.702   \n",
       "14                                        Obergiesing        572     54.402   \n",
       "15                                 Pasing-Obermenzing       1650     73.320   \n",
       "16                                 Ramersdorf-Perlach       1990    112.371   \n",
       "17                                 Schwabing-Freimann       2567     75.020   \n",
       "18                                     Schwabing-West        436     68.527   \n",
       "19                                   Schwanthalerhöhe        207     30.381   \n",
       "20                                           Sendling        394     40.879   \n",
       "21                                  Sendling-Westpark        781     58.398   \n",
       "22  Thalkirchen-Obersendling-Forstenried-Fürstenri...       1776     93.602   \n",
       "23                                     Trudering-Riem       2245     69.830   \n",
       "\n",
       "    Persons_per_square_km  \n",
       "0                   2.063  \n",
       "1                   6.715  \n",
       "2                   1.282  \n",
       "3                  14.574  \n",
       "4                   7.132  \n",
       "5                   3.625  \n",
       "6                   2.126  \n",
       "7                   5.449  \n",
       "8                  10.476  \n",
       "9                  12.280  \n",
       "10                 12.540  \n",
       "11                  5.627  \n",
       "12                  4.801  \n",
       "13                  7.643  \n",
       "14                  9.510  \n",
       "15                  4.444  \n",
       "16                  5.648  \n",
       "17                  2.922  \n",
       "18                 15.706  \n",
       "19                 14.675  \n",
       "20                 10.379  \n",
       "21                  7.473  \n",
       "22                  5.269  \n",
       "23                  3.110  "
      ]
     },
     "execution_count": 24,
     "metadata": {},
     "output_type": "execute_result"
    }
   ],
   "source": [
    "population = pop[21]\n",
    "population.columns = [\"Borough\",\"Square-km\",\"Population\",\"Persons_per_square_km\"]\n",
    "population = population.iloc[0:24,]\n",
    "print(type(population))\n",
    "population"
   ]
  },
  {
   "cell_type": "markdown",
   "metadata": {},
   "source": [
    "The table is now available as a dataframe."
   ]
  },
  {
   "cell_type": "markdown",
   "metadata": {},
   "source": [
    "The population figures refer to 31 December 2015 (main residences)"
   ]
  },
  {
   "cell_type": "markdown",
   "metadata": {},
   "source": [
    "### Save dataframe as csv file"
   ]
  },
  {
   "cell_type": "code",
   "execution_count": 25,
   "metadata": {},
   "outputs": [],
   "source": [
    "population.to_csv('Population.csv',index=False)"
   ]
  },
  {
   "cell_type": "markdown",
   "metadata": {},
   "source": [
    "### B: Demographics data"
   ]
  },
  {
   "cell_type": "markdown",
   "metadata": {},
   "source": [
    "#### Source of population data: https://de.wikipedia.org/wiki/Einwohnerentwicklung_von_M%C3%BCnchen"
   ]
  },
  {
   "cell_type": "markdown",
   "metadata": {},
   "source": [
    "### Demographics"
   ]
  },
  {
   "cell_type": "markdown",
   "metadata": {},
   "source": [
    "### Web scrapping of Demographics data from wikipedia page using Pandas"
   ]
  },
  {
   "cell_type": "markdown",
   "metadata": {},
   "source": [
    "Pandas offers with the method read_html() a very fast way to extract tables from web pages."
   ]
  },
  {
   "cell_type": "code",
   "execution_count": 28,
   "metadata": {},
   "outputs": [],
   "source": [
    "demo = pd.read_html('https://de.wikipedia.org/wiki/Einwohnerentwicklung_von_M%C3%BCnchen')"
   ]
  },
  {
   "cell_type": "code",
   "execution_count": 29,
   "metadata": {},
   "outputs": [
    {
     "data": {
      "text/html": [
       "<div>\n",
       "<style scoped>\n",
       "    .dataframe tbody tr th:only-of-type {\n",
       "        vertical-align: middle;\n",
       "    }\n",
       "\n",
       "    .dataframe tbody tr th {\n",
       "        vertical-align: top;\n",
       "    }\n",
       "\n",
       "    .dataframe thead th {\n",
       "        text-align: right;\n",
       "    }\n",
       "</style>\n",
       "<table border=\"1\" class=\"dataframe\">\n",
       "  <thead>\n",
       "    <tr style=\"text-align: right;\">\n",
       "      <th></th>\n",
       "      <th>Country</th>\n",
       "      <th>2000</th>\n",
       "      <th>2005</th>\n",
       "      <th>2010</th>\n",
       "      <th>2015</th>\n",
       "      <th>2018</th>\n",
       "    </tr>\n",
       "  </thead>\n",
       "  <tbody>\n",
       "    <tr>\n",
       "      <td>0</td>\n",
       "      <td>Kroatien</td>\n",
       "      <td>22.009</td>\n",
       "      <td>24.866</td>\n",
       "      <td>23.740</td>\n",
       "      <td>33.177</td>\n",
       "      <td>38.137</td>\n",
       "    </tr>\n",
       "    <tr>\n",
       "      <td>1</td>\n",
       "      <td>Türkei</td>\n",
       "      <td>46.329</td>\n",
       "      <td>43.309</td>\n",
       "      <td>40.860</td>\n",
       "      <td>39.204</td>\n",
       "      <td>37.876</td>\n",
       "    </tr>\n",
       "    <tr>\n",
       "      <td>2</td>\n",
       "      <td>Italien</td>\n",
       "      <td>22.282</td>\n",
       "      <td>20.847</td>\n",
       "      <td>21.038</td>\n",
       "      <td>27.340</td>\n",
       "      <td>27.821</td>\n",
       "    </tr>\n",
       "    <tr>\n",
       "      <td>3</td>\n",
       "      <td>Griechenland</td>\n",
       "      <td>23.523</td>\n",
       "      <td>22.486</td>\n",
       "      <td>20.506</td>\n",
       "      <td>27.117</td>\n",
       "      <td>26.560</td>\n",
       "    </tr>\n",
       "    <tr>\n",
       "      <td>4</td>\n",
       "      <td>Österreich</td>\n",
       "      <td>21.938</td>\n",
       "      <td>21.411</td>\n",
       "      <td>20.814</td>\n",
       "      <td>21.944</td>\n",
       "      <td>21.046</td>\n",
       "    </tr>\n",
       "    <tr>\n",
       "      <td>5</td>\n",
       "      <td>Bosnien und Herzegowina</td>\n",
       "      <td>14 382</td>\n",
       "      <td>16.475</td>\n",
       "      <td>15.588</td>\n",
       "      <td>17.471</td>\n",
       "      <td>19.692</td>\n",
       "    </tr>\n",
       "    <tr>\n",
       "      <td>6</td>\n",
       "      <td>Polen</td>\n",
       "      <td>6.626</td>\n",
       "      <td>12.088</td>\n",
       "      <td>14.697</td>\n",
       "      <td>21 945</td>\n",
       "      <td>19.101</td>\n",
       "    </tr>\n",
       "    <tr>\n",
       "      <td>7</td>\n",
       "      <td>Rumänien</td>\n",
       "      <td>4.139</td>\n",
       "      <td>4.161</td>\n",
       "      <td>7.971</td>\n",
       "      <td>18.058</td>\n",
       "      <td>17.980</td>\n",
       "    </tr>\n",
       "    <tr>\n",
       "      <td>8</td>\n",
       "      <td>Serbien*</td>\n",
       "      <td>30.514</td>\n",
       "      <td>24.439</td>\n",
       "      <td>15.600</td>\n",
       "      <td>13.389</td>\n",
       "      <td>14.115</td>\n",
       "    </tr>\n",
       "    <tr>\n",
       "      <td>9</td>\n",
       "      <td>Bulgarien</td>\n",
       "      <td>1.651</td>\n",
       "      <td>2.858</td>\n",
       "      <td>5.982</td>\n",
       "      <td>12.267</td>\n",
       "      <td>12.575</td>\n",
       "    </tr>\n",
       "    <tr>\n",
       "      <td>10</td>\n",
       "      <td>Irak</td>\n",
       "      <td>4.315</td>\n",
       "      <td>8.583</td>\n",
       "      <td>9.931</td>\n",
       "      <td>10.977</td>\n",
       "      <td>12.237</td>\n",
       "    </tr>\n",
       "    <tr>\n",
       "      <td>11</td>\n",
       "      <td>Kosovo</td>\n",
       "      <td>–</td>\n",
       "      <td>–</td>\n",
       "      <td>6.028</td>\n",
       "      <td>10.594</td>\n",
       "      <td>11.428</td>\n",
       "    </tr>\n",
       "    <tr>\n",
       "      <td>12</td>\n",
       "      <td>Frankreich</td>\n",
       "      <td>6.269</td>\n",
       "      <td>6.859</td>\n",
       "      <td>7.651</td>\n",
       "      <td>10.611</td>\n",
       "      <td>10.239</td>\n",
       "    </tr>\n",
       "    <tr>\n",
       "      <td>13</td>\n",
       "      <td>Indien</td>\n",
       "      <td>1.346</td>\n",
       "      <td>2.094</td>\n",
       "      <td>2.774</td>\n",
       "      <td>5.852</td>\n",
       "      <td>9.071</td>\n",
       "    </tr>\n",
       "    <tr>\n",
       "      <td>14</td>\n",
       "      <td>Russische Föderation</td>\n",
       "      <td>3.118</td>\n",
       "      <td>5.240</td>\n",
       "      <td>6.014</td>\n",
       "      <td>8.513</td>\n",
       "      <td>8.899</td>\n",
       "    </tr>\n",
       "    <tr>\n",
       "      <td>15</td>\n",
       "      <td>Spanien</td>\n",
       "      <td>3.381</td>\n",
       "      <td>3.440</td>\n",
       "      <td>4.084</td>\n",
       "      <td>8.886</td>\n",
       "      <td>8.860</td>\n",
       "    </tr>\n",
       "    <tr>\n",
       "      <td>16</td>\n",
       "      <td>Ungarn</td>\n",
       "      <td>3.205</td>\n",
       "      <td>4.110</td>\n",
       "      <td>6.512</td>\n",
       "      <td>10.678</td>\n",
       "      <td>8.586</td>\n",
       "    </tr>\n",
       "    <tr>\n",
       "      <td>17</td>\n",
       "      <td>China</td>\n",
       "      <td>2.063</td>\n",
       "      <td>2.892</td>\n",
       "      <td>4.159</td>\n",
       "      <td>6.682</td>\n",
       "      <td>8.400</td>\n",
       "    </tr>\n",
       "    <tr>\n",
       "      <td>18</td>\n",
       "      <td>Afghanistan</td>\n",
       "      <td>4.175</td>\n",
       "      <td>4.214</td>\n",
       "      <td>3.926</td>\n",
       "      <td>6.627</td>\n",
       "      <td>7.246</td>\n",
       "    </tr>\n",
       "    <tr>\n",
       "      <td>19</td>\n",
       "      <td>Ukraine</td>\n",
       "      <td>3.061</td>\n",
       "      <td>5.225</td>\n",
       "      <td>5.550</td>\n",
       "      <td>6.392</td>\n",
       "      <td>6.964</td>\n",
       "    </tr>\n",
       "    <tr>\n",
       "      <td>20</td>\n",
       "      <td>USA</td>\n",
       "      <td>5.144</td>\n",
       "      <td>5.121</td>\n",
       "      <td>5.593</td>\n",
       "      <td>6.761</td>\n",
       "      <td>6.647</td>\n",
       "    </tr>\n",
       "    <tr>\n",
       "      <td>21</td>\n",
       "      <td>Vereinigtes Königreich</td>\n",
       "      <td>5.102</td>\n",
       "      <td>4.619</td>\n",
       "      <td>4.794</td>\n",
       "      <td>5.949</td>\n",
       "      <td>4.993</td>\n",
       "    </tr>\n",
       "  </tbody>\n",
       "</table>\n",
       "</div>"
      ],
      "text/plain": [
       "                    Country    2000    2005    2010    2015    2018\n",
       "0                  Kroatien  22.009  24.866  23.740  33.177  38.137\n",
       "1                    Türkei  46.329  43.309  40.860  39.204  37.876\n",
       "2                   Italien  22.282  20.847  21.038  27.340  27.821\n",
       "3              Griechenland  23.523  22.486  20.506  27.117  26.560\n",
       "4                Österreich  21.938  21.411  20.814  21.944  21.046\n",
       "5   Bosnien und Herzegowina  14 382  16.475  15.588  17.471  19.692\n",
       "6                     Polen   6.626  12.088  14.697  21 945  19.101\n",
       "7                  Rumänien   4.139   4.161   7.971  18.058  17.980\n",
       "8                  Serbien*  30.514  24.439  15.600  13.389  14.115\n",
       "9                 Bulgarien   1.651   2.858   5.982  12.267  12.575\n",
       "10                     Irak   4.315   8.583   9.931  10.977  12.237\n",
       "11                   Kosovo       –       –   6.028  10.594  11.428\n",
       "12               Frankreich   6.269   6.859   7.651  10.611  10.239\n",
       "13                   Indien   1.346   2.094   2.774   5.852   9.071\n",
       "14     Russische Föderation   3.118   5.240   6.014   8.513   8.899\n",
       "15                  Spanien   3.381   3.440   4.084   8.886   8.860\n",
       "16                   Ungarn   3.205   4.110   6.512  10.678   8.586\n",
       "17                    China   2.063   2.892   4.159   6.682   8.400\n",
       "18              Afghanistan   4.175   4.214   3.926   6.627   7.246\n",
       "19                  Ukraine   3.061   5.225   5.550   6.392   6.964\n",
       "20                      USA   5.144   5.121   5.593   6.761   6.647\n",
       "21   Vereinigtes Königreich   5.102   4.619   4.794   5.949   4.993"
      ]
     },
     "execution_count": 29,
     "metadata": {},
     "output_type": "execute_result"
    }
   ],
   "source": [
    "demographics = demo[18].drop(\"Rang\", axis=1)\n",
    "demographics.columns\n",
    "demographics.columns = ['Country', '2000', '2005', '2010', '2015', '2018']\n",
    "demographics"
   ]
  },
  {
   "cell_type": "markdown",
   "metadata": {},
   "source": [
    "This table shows residents with foreign citizenship by country of origin over 5,000 at the end of the year"
   ]
  },
  {
   "cell_type": "markdown",
   "metadata": {},
   "source": [
    "### Save dataframe as csv file"
   ]
  },
  {
   "cell_type": "code",
   "execution_count": 32,
   "metadata": {},
   "outputs": [],
   "source": [
    "demographics.to_csv('Demographics.csv',index=False)"
   ]
  }
 ],
 "metadata": {
  "kernelspec": {
   "display_name": "Python 3",
   "language": "python",
   "name": "python3"
  },
  "language_info": {
   "codemirror_mode": {
    "name": "ipython",
    "version": 3
   },
   "file_extension": ".py",
   "mimetype": "text/x-python",
   "name": "python",
   "nbconvert_exporter": "python",
   "pygments_lexer": "ipython3",
   "version": "3.7.4"
  }
 },
 "nbformat": 4,
 "nbformat_minor": 2
}
